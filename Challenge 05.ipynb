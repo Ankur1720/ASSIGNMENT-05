{
 "cells": [
  {
   "cell_type": "code",
   "execution_count": null,
   "id": "cf2fcc6a",
   "metadata": {},
   "outputs": [],
   "source": [
    "# Challenge 05: Handling a Bank Account?"
   ]
  },
  {
   "cell_type": "code",
   "execution_count": 1,
   "id": "754b6029",
   "metadata": {},
   "outputs": [
    {
     "name": "stdout",
     "output_type": "stream",
     "text": [
      "Initial Balance :  1000\n",
      "Balance after withdrawal :  500\n",
      "After deposit :  2000\n",
      "Intrest on current balance :  100.0\n"
     ]
    }
   ],
   "source": [
    "class Account:\n",
    "    def __init__(self, title=None, balance=0):\n",
    "        self.title = title\n",
    "        self.balance = balance\n",
    "\n",
    "    def withdrawal(self, amount):\n",
    "        self.amount = amount\n",
    "        self.balance = self.balance - self.amount\n",
    "\n",
    "    def deposit(self, amount):\n",
    "        self.amount = amount\n",
    "        self.balance = self.balance + self.amount\n",
    "    def getBalance(self):\n",
    "        return self.balance\n",
    "\n",
    "class SavingsAccount(Account):\n",
    "    def __init__(self, title=None, balance=0, interestRate=0):\n",
    "            super().__init__(title, balance)\n",
    "            self.interestRate = interestRate\n",
    "\n",
    "    def interestAmount(self):\n",
    "        return (self.balance * self.interestRate / 100 ) \n",
    "\n",
    "\n",
    "obj = SavingsAccount(\"Ankur Agrawal\",1000,5)\n",
    "print(\"Initial Balance : \",obj.getBalance())\n",
    "obj.withdrawal(500)\n",
    "print(\"Balance after withdrawal : \",obj.getBalance())\n",
    "obj.deposit(1500)\n",
    "print(\"After deposit : \",obj.getBalance())\n",
    "print(\"Intrest on current balance : \",obj.interestAmount())"
   ]
  },
  {
   "cell_type": "code",
   "execution_count": null,
   "id": "78ffb065",
   "metadata": {},
   "outputs": [],
   "source": []
  }
 ],
 "metadata": {
  "kernelspec": {
   "display_name": "Python 3 (ipykernel)",
   "language": "python",
   "name": "python3"
  },
  "language_info": {
   "codemirror_mode": {
    "name": "ipython",
    "version": 3
   },
   "file_extension": ".py",
   "mimetype": "text/x-python",
   "name": "python",
   "nbconvert_exporter": "python",
   "pygments_lexer": "ipython3",
   "version": "3.11.0"
  }
 },
 "nbformat": 4,
 "nbformat_minor": 5
}
