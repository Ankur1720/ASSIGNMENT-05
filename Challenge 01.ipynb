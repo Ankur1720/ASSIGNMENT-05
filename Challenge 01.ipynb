{
 "cells": [
  {
   "cell_type": "code",
   "execution_count": null,
   "id": "cd242325",
   "metadata": {},
   "outputs": [],
   "source": [
    "# Challenge: Square Numbers and Return Their Sum?"
   ]
  },
  {
   "cell_type": "code",
   "execution_count": 1,
   "id": "822e8c67",
   "metadata": {},
   "outputs": [
    {
     "name": "stdout",
     "output_type": "stream",
     "text": [
      "35\n"
     ]
    }
   ],
   "source": [
    "class point:\n",
    "    \n",
    "    \n",
    "    def __init__(self,x,y,z):\n",
    "        self.x=x\n",
    "        self.y=y\n",
    "        self.z=z\n",
    "        \n",
    "    def sqsum(self):\n",
    "        square_sum = (self.x**2)+(self.y**2)+(self.z**2)\n",
    "        return square_sum\n",
    "\n",
    "    point = point(1,3,5)\n",
    "data = point.sqsum()\n",
    "print(data)"
   ]
  },
  {
   "cell_type": "code",
   "execution_count": null,
   "id": "9325796f",
   "metadata": {},
   "outputs": [],
   "source": []
  }
 ],
 "metadata": {
  "kernelspec": {
   "display_name": "Python 3 (ipykernel)",
   "language": "python",
   "name": "python3"
  },
  "language_info": {
   "codemirror_mode": {
    "name": "ipython",
    "version": 3
   },
   "file_extension": ".py",
   "mimetype": "text/x-python",
   "name": "python",
   "nbconvert_exporter": "python",
   "pygments_lexer": "ipython3",
   "version": "3.11.0"
  }
 },
 "nbformat": 4,
 "nbformat_minor": 5
}
