{
 "cells": [
  {
   "cell_type": "code",
   "execution_count": null,
   "id": "2e6568f7",
   "metadata": {},
   "outputs": [],
   "source": [
    "# Challenge 03: Implement the complete Student Class?"
   ]
  },
  {
   "cell_type": "code",
   "execution_count": 3,
   "id": "8b61afc0",
   "metadata": {},
   "outputs": [
    {
     "name": "stdout",
     "output_type": "stream",
     "text": [
      "Name of Student : Ankur Agrawal\n",
      "Roll number of Student : 7\n"
     ]
    }
   ],
   "source": [
    "class Student:\n",
    "    def student(self,name,rollnumber):\n",
    "        self.__name = name                       # made name a private member\n",
    "        self.__rollnumber = rollnumber           # made rollnumber a private number\n",
    "\n",
    "    def setName(self,name):\n",
    "        self.__name = name\n",
    "    def getName(self):\n",
    "        return f\"Name of Student : {self.__name}\"\n",
    "\n",
    "\n",
    "    def setRollNumber(self,rollnumber):\n",
    "        self.__rollnumber = rollnumber\n",
    "    def getRollNumber(self):\n",
    "        return f\"Roll number of Student : {self.__rollnumber}\"\n",
    "\n",
    "student = Student()\n",
    "student.setName(\"Ankur Agrawal\")\n",
    "data = student.getName()\n",
    "print(data)\n",
    "student.setRollNumber(7)\n",
    "data = student.getRollNumber()\n",
    "print(data)"
   ]
  },
  {
   "cell_type": "code",
   "execution_count": null,
   "id": "1f66c0e3",
   "metadata": {},
   "outputs": [],
   "source": []
  }
 ],
 "metadata": {
  "kernelspec": {
   "display_name": "Python 3 (ipykernel)",
   "language": "python",
   "name": "python3"
  },
  "language_info": {
   "codemirror_mode": {
    "name": "ipython",
    "version": 3
   },
   "file_extension": ".py",
   "mimetype": "text/x-python",
   "name": "python",
   "nbconvert_exporter": "python",
   "pygments_lexer": "ipython3",
   "version": "3.11.0"
  }
 },
 "nbformat": 4,
 "nbformat_minor": 5
}
