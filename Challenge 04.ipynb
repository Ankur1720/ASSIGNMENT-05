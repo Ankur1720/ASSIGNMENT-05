{
 "cells": [
  {
   "cell_type": "code",
   "execution_count": null,
   "id": "8cb647be",
   "metadata": {},
   "outputs": [],
   "source": [
    "# Challenge 04: Implement the Banking Account?"
   ]
  },
  {
   "cell_type": "code",
   "execution_count": 2,
   "id": "b91554fa",
   "metadata": {},
   "outputs": [
    {
     "name": "stdout",
     "output_type": "stream",
     "text": [
      "Title :  Ashish\n",
      "Account Balance:  5000\n",
      "Intrest Rate :  5\n",
      "Intrest Rate :  5\n"
     ]
    }
   ],
   "source": [
    "class Account:\n",
    "    def __init__(self,title = None,account_balance = 0):\n",
    "        self.title = title\n",
    "        self.acount_balance = account_balance\n",
    "    \n",
    "class Savings_account(Account):\n",
    "    def __init__(self,title = None,account_balance = 0 ,intrest_rate = 0):\n",
    "        super().__init__(title,account_balance)\n",
    "        self.intrest_rate = intrest_rate\n",
    "    def display(self):\n",
    "        super().display()\n",
    "        return self.intrest_rate\n",
    "\n",
    "\n",
    "saving =Savings_account(\"Ankur Agrawal\",5000,5)\n",
    "saving =Savings_account(\"Ashish\",5000,5)\n",
    "print(\"Title : \",saving.title)\n",
    "print(\"Account Balance: \",saving.acount_balance)\n",
    "print(\"Intrest Rate : \",saving.intrest_rate)\n",
    "print(\"Intrest Rate : \",saving.intrest_rate)"
   ]
  },
  {
   "cell_type": "code",
   "execution_count": null,
   "id": "d84074f5",
   "metadata": {},
   "outputs": [],
   "source": []
  }
 ],
 "metadata": {
  "kernelspec": {
   "display_name": "Python 3 (ipykernel)",
   "language": "python",
   "name": "python3"
  },
  "language_info": {
   "codemirror_mode": {
    "name": "ipython",
    "version": 3
   },
   "file_extension": ".py",
   "mimetype": "text/x-python",
   "name": "python",
   "nbconvert_exporter": "python",
   "pygments_lexer": "ipython3",
   "version": "3.11.0"
  }
 },
 "nbformat": 4,
 "nbformat_minor": 5
}
